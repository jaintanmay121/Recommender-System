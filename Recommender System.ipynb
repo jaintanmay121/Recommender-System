{
 "cells": [
  {
   "cell_type": "markdown",
   "metadata": {},
   "source": [
    "# Recommender System"
   ]
  },
  {
   "cell_type": "code",
   "execution_count": 1,
   "metadata": {},
   "outputs": [],
   "source": [
    "import pandas as pd\n",
    "import numpy as np\n",
    "from sklearn.feature_extraction.text import CountVectorizer\n",
    "from sklearn.metrics.pairwise import cosine_similarity"
   ]
  },
  {
   "cell_type": "markdown",
   "metadata": {},
   "source": [
    "### Read the data"
   ]
  },
  {
   "cell_type": "code",
   "execution_count": 2,
   "metadata": {},
   "outputs": [],
   "source": [
    "df=pd.read_csv('movie_dataset.csv')\n",
    "df=df.fillna('')    #To fill the NaN data"
   ]
  },
  {
   "cell_type": "markdown",
   "metadata": {},
   "source": [
    "## Find the Title for the movie"
   ]
  },
  {
   "cell_type": "code",
   "execution_count": 16,
   "metadata": {},
   "outputs": [],
   "source": [
    "def searchMovie():\n",
    "    print(\"Search the title for your movie here\")\n",
    "    search_type=input(\"\\nSearch by (title/cast/director) : \")\n",
    "    srch=input(\"\\nEnter the query: \")\n",
    "    print('\\n')\n",
    "    print(pd.DataFrame(df[df[search_type].str.contains(srch.title())][['title']])['title'])\n",
    "    movie_title=input('Enter the title: ')\n",
    "    return movie_title"
   ]
  },
  {
   "cell_type": "markdown",
   "metadata": {},
   "source": [
    "## Features used for Recommendation"
   ]
  },
  {
   "cell_type": "code",
   "execution_count": 4,
   "metadata": {},
   "outputs": [],
   "source": [
    "features=['keywords','cast','genres','director']\n",
    "for feature in features:\n",
    "    df[feature] = df[feature].fillna('')"
   ]
  },
  {
   "cell_type": "markdown",
   "metadata": {},
   "source": [
    "### Combine the features into single column to vectorize"
   ]
  },
  {
   "cell_type": "code",
   "execution_count": 5,
   "metadata": {},
   "outputs": [],
   "source": [
    "def combine_features(row):\n",
    "    return row['keywords']+\" \"+row['cast']+\" \"+row['genres']+\" \"+row['director']\n",
    "df[\"combined_features\"] = df.apply(combine_features,axis=1)"
   ]
  },
  {
   "cell_type": "code",
   "execution_count": 6,
   "metadata": {},
   "outputs": [],
   "source": [
    "cv=CountVectorizer()\n",
    "count_matrix=cv.fit_transform(df['combined_features'])"
   ]
  },
  {
   "cell_type": "code",
   "execution_count": 7,
   "metadata": {},
   "outputs": [],
   "source": [
    "cosine_sim = cosine_similarity(count_matrix)"
   ]
  },
  {
   "cell_type": "code",
   "execution_count": 8,
   "metadata": {},
   "outputs": [],
   "source": [
    "def get_title_from_index(index):\n",
    "    return df[df.index == index][\"title\"].values[0]\n",
    "def get_index_from_title(title):\n",
    "    return df[df.title == title][\"index\"].values[0]"
   ]
  },
  {
   "cell_type": "markdown",
   "metadata": {},
   "source": [
    "## Using everything we made"
   ]
  },
  {
   "cell_type": "code",
   "execution_count": 17,
   "metadata": {},
   "outputs": [
    {
     "name": "stdout",
     "output_type": "stream",
     "text": [
      "Search the title for your movie here\n",
      "\n",
      "Search by (title/cast/director) : title\n",
      "\n",
      "Enter the query: hi\n",
      "\n",
      "\n",
      "498                                  Hidalgo\n",
      "815                                    Hitch\n",
      "947                              Silent Hill\n",
      "952                    Beverly Hills Cop III\n",
      "986                            Your Highness\n",
      "1068    The Hitchhiker's Guide to the Galaxy\n",
      "1120                            Notting Hill\n",
      "1127                             High Crimes\n",
      "1189                    Get Him to the Greek\n",
      "1375                                Sky High\n",
      "1512                   A History of Violence\n",
      "1802         Highlander: The Final Dimension\n",
      "1845                           Hide and Seek\n",
      "2054                               Hit & Run\n",
      "2089                    Beverly Hills Cop II\n",
      "2095                 Beverly Hills Chihuahua\n",
      "2148                           High Fidelity\n",
      "2180              Silent Hill: Revelation 3D\n",
      "2200                     Crank: High Voltage\n",
      "2286                   House on Haunted Hill\n",
      "2363                     Troop Beverly Hills\n",
      "2398                                  Hitman\n",
      "2417                     The Hills Have Eyes\n",
      "2490                              Highlander\n",
      "2510                       Beverly Hills Cop\n",
      "2515          Crouching Tiger, Hidden Dragon\n",
      "2575                   The Hills Have Eyes 2\n",
      "2592                     Highlander: Endgame\n",
      "2747                             The Big Hit\n",
      "2834                                How High\n",
      "2916      High School Musical 3: Senior Year\n",
      "2929            History of the World: Part I\n",
      "3020                              Sugar Hill\n",
      "3057                      American History X\n",
      "3106                High Heels and Low Lifes\n",
      "3205                         Beneath Hill 60\n",
      "3407                   High School Musical 2\n",
      "3509                            The Hit List\n",
      "3531                     High Plains Drifter\n",
      "3621                  Slums of Beverly Hills\n",
      "3697            Fast Times at Ridgemont High\n",
      "3731                     High School Musical\n",
      "3801     The Geographer Drank His Globe Away\n",
      "3822                        The History Boys\n",
      "3860                            High Anxiety\n",
      "3980                            High Tension\n",
      "4113                       The Virginity Hit\n",
      "4146                                 Highway\n",
      "4178                           Higher Ground\n",
      "4181                  Ed and His Dead Mother\n",
      "4183                           Hang 'em High\n",
      "4250    Wal-Mart: The High Cost of Low Price\n",
      "4407                                    Hits\n",
      "4416                             Hidden Away\n",
      "4479                               High Noon\n",
      "4515                               High Road\n",
      "4673                      She Done Him Wrong\n",
      "4767                          Run, Hide, Die\n",
      "Name: title, dtype: object\n",
      "Enter the title: Hits\n"
     ]
    }
   ],
   "source": [
    "movie_user_likes = searchMovie()\n",
    "movie_index = get_index_from_title(movie_user_likes)\n",
    "similar_movies = list(enumerate(cosine_sim[movie_index]))"
   ]
  },
  {
   "cell_type": "code",
   "execution_count": 18,
   "metadata": {},
   "outputs": [],
   "source": [
    "sorted_similar_movies = sorted(similar_movies,key=lambda x:x[1],reverse=True)[1:]"
   ]
  },
  {
   "cell_type": "code",
   "execution_count": 19,
   "metadata": {},
   "outputs": [
    {
     "name": "stdout",
     "output_type": "stream",
     "text": [
      "Top 5 movies similar to Hits are:\n",
      "\n",
      "Me You and Five Bucks\n",
      "All The Queen's Men\n",
      "Accidental Love\n",
      "Whatever It Takes\n",
      "Cyrus\n",
      "Lovely & Amazing\n"
     ]
    }
   ],
   "source": [
    "i=0\n",
    "print(\"Top 5 movies similar to \"+movie_user_likes+\" are:\\n\")\n",
    "for element in sorted_similar_movies:\n",
    "    print(get_title_from_index(element[0]))\n",
    "    i=i+1\n",
    "    if i>5:\n",
    "        break"
   ]
  }
 ],
 "metadata": {
  "kernelspec": {
   "display_name": "Python 3",
   "language": "python",
   "name": "python3"
  },
  "language_info": {
   "codemirror_mode": {
    "name": "ipython",
    "version": 3
   },
   "file_extension": ".py",
   "mimetype": "text/x-python",
   "name": "python",
   "nbconvert_exporter": "python",
   "pygments_lexer": "ipython3",
   "version": "3.7.1"
  }
 },
 "nbformat": 4,
 "nbformat_minor": 2
}
